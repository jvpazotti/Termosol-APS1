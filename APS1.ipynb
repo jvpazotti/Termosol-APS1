{
 "cells": [
  {
   "cell_type": "code",
   "execution_count": 39,
   "metadata": {},
   "outputs": [],
   "source": [
    "#Variables\n",
    "\n",
    "ts=100\n",
    "ta=25\n",
    "r=12*(10**-3)\n",
    "L=168*(10**-3)\n",
    "h=10\n",
    "P=pi*2*r\n",
    "A=(pi*(r**2))/4\n",
    "k=237"
   ]
  },
  {
   "cell_type": "code",
   "execution_count": 40,
   "metadata": {},
   "outputs": [],
   "source": [
    "#imports\n",
    "\n",
    "import numpy as np\n",
    "\n",
    "import matplotlib.pyplot as plt\n",
    "\n",
    "from math import *"
   ]
  },
  {
   "cell_type": "code",
   "execution_count": 41,
   "metadata": {},
   "outputs": [],
   "source": [
    "#Functions\n",
    "\n",
    "def Taxa_transferencia_calor_aleta(M,m,L,h,k):\n",
    "\n",
    "    sup= sinh(m*L) + (h/(m*k)) * cosh(m*L)\n",
    "\n",
    "    below= cosh(m*L) + (h/(m*k)) * sinh(m*L)\n",
    "\n",
    "    qa= M*(sup/below)\n",
    "\n",
    "    return qa\n",
    "\n",
    "def Estabelece_M(h,P,A,k,theta):\n",
    "    M=sqrt(h*P*A*k)*theta\n",
    "    return M\n",
    "\n",
    "def Estabelece_m(h,P,k,A):\n",
    "    m=sqrt((h*P)/(k*A))\n",
    "    return m\n",
    "\n",
    "def Estabelece_theta(Ts,Ta):\n",
    "    theta=Ts-Ta\n",
    "    return theta\n",
    "\n",
    "def Estabelece_distribuicao_temp(m,L,h,k,x):\n",
    "\n",
    "    sup=cosh(m*(L-x)) + (h/(m*k)) * sinh(m*(L-x))\n",
    "\n",
    "    below=cosh(m*L) + (h/(m*k)) * sinh(m*L)\n",
    "\n",
    "    Temp=(sup/below)*Estabelece_theta(ts,ta)+ta\n",
    "\n",
    "    return Temp\n",
    "\n",
    "\n",
    "\n"
   ]
  },
  {
   "cell_type": "code",
   "execution_count": 42,
   "metadata": {},
   "outputs": [
    {
     "data": {
      "image/png": "[encoded data removed]",
      "text/plain": [
       "<Figure size 432x288 with 1 Axes>"
      ]
     },
     "metadata": {
      "needs_background": "light"
     },
     "output_type": "display_data"
    }
   ],
   "source": [
    "#Questao 1 \n",
    "\n",
    "#a)\n",
    "\n",
    "temperatures=[]\n",
    "\n",
    "comp=np.linspace(0,L,1000)\n",
    "\n",
    "m=Estabelece_m(h,P,k,A)\n",
    "\n",
    "for values in comp:\n",
    "    temperatures.append(Estabelece_distribuicao_temp(m,L,h,k,values))\n",
    "\n",
    "plt.plot(comp,temperatures)\n",
    "plt.ylabel(\"Temperatura em graus Celsius\")\n",
    "plt.xlabel(\"Comprimento da aleta\")\n",
    "plt.grid()\n",
    "plt.show()"
   ]
  },
  {
   "cell_type": "code",
   "execution_count": 43,
   "metadata": {},
   "outputs": [
    {
     "data": {
      "text/plain": [
       "7.631929697178731"
      ]
     },
     "execution_count": 43,
     "metadata": {},
     "output_type": "execute_result"
    }
   ],
   "source": [
    "#Questao 1 \n",
    "\n",
    "#b)\n",
    "\n",
    "theta=Estabelece_theta(ts,ta)\n",
    "\n",
    "M=Estabelece_M(h,P,A,k,theta)\n",
    "\n",
    "qa=Taxa_transferencia_calor_aleta(M,m,L,h,k)\n",
    "\n",
    "qa"
   ]
  },
  {
   "cell_type": "code",
   "execution_count": 27,
   "metadata": {},
   "outputs": [],
   "source": [
    "#Questao 1 \n",
    "\n",
    "#c)\n"
   ]
  },
  {
   "cell_type": "code",
   "execution_count": 28,
   "metadata": {},
   "outputs": [],
   "source": [
    "#Questao 2 \n",
    "\n",
    "#a)"
   ]
  },
  {
   "cell_type": "code",
   "execution_count": 29,
   "metadata": {},
   "outputs": [],
   "source": [
    "#Questao 2 \n",
    "\n",
    "#b)"
   ]
  },
  {
   "cell_type": "code",
   "execution_count": 30,
   "metadata": {},
   "outputs": [],
   "source": [
    "#Questao 3 \n",
    "\n",
    "#c)"
   ]
  },
  {
   "cell_type": "code",
   "execution_count": null,
   "metadata": {},
   "outputs": [],
   "source": []
  }
 ],
 "metadata": {
  "kernelspec": {
   "display_name": "Python 3 (ipykernel)",
   "language": "python",
   "name": "python3"
  },
  "language_info": {
   "codemirror_mode": {
    "name": "ipython",
    "version": 3
   },
   "file_extension": ".py",
   "mimetype": "text/x-python",
   "name": "python",
   "nbconvert_exporter": "python",
   "pygments_lexer": "ipython3",
   "version": "3.8.3"
  }
 },
 "nbformat": 4,
 "nbformat_minor": 2
}
