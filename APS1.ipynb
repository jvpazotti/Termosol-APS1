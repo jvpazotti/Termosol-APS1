{
 "cells": [
  {
   "cell_type": "markdown",
   "metadata": {},
   "source": [
    "## APS 1 - Transferência de calor e mecânica dos sólidos\n",
    "\n",
    "### Membros do grupo\n",
    "* João Victor Pazotti Silva\n",
    "* Luca Coutinho Melão\n",
    "* Matheus Kwon\n",
    "* Paulo Souza Chade"
   ]
  },
  {
   "cell_type": "markdown",
   "metadata": {},
   "source": [
    "### Imports"
   ]
  },
  {
   "cell_type": "code",
   "execution_count": 1,
   "metadata": {},
   "outputs": [],
   "source": [
    "import numpy as np\n",
    "\n",
    "import matplotlib.pyplot as plt\n",
    "\n",
    "from math import *\n",
    "\n",
    "from helpers import fin_heat_transfer, calculate_M, calculate_m, calculate_theta, fin_temp_distribution, effectiveness, efficiency"
   ]
  },
  {
   "cell_type": "markdown",
   "metadata": {},
   "source": [
    "### Variáveis"
   ]
  },
  {
   "cell_type": "code",
   "execution_count": 2,
   "metadata": {},
   "outputs": [],
   "source": [
    "ts = 100\n",
    "ta = 25\n",
    "r = 12*(10**-3)\n",
    "L = 168*(10**-3)\n",
    "h = 10\n",
    "P = 2*pi*r\n",
    "A = (pi*(r**2))\n",
    "k = 237"
   ]
  },
  {
   "cell_type": "markdown",
   "metadata": {},
   "source": [
    "### Questão 1"
   ]
  },
  {
   "cell_type": "code",
   "execution_count": 3,
   "metadata": {},
   "outputs": [
    {
     "data": {
      "image/png": "[encoded data removed]",
      "text/plain": [
       "<Figure size 432x288 with 1 Axes>"
      ]
     },
     "metadata": {
      "needs_background": "light"
     },
     "output_type": "display_data"
    }
   ],
   "source": [
    "# A)\n",
    "\n",
    "temperatures = []\n",
    "\n",
    "comp = np.linspace(0,L,100000)\n",
    "\n",
    "m = calculate_m(h,P,k,A)\n",
    "\n",
    "for values in comp:\n",
    "    temperatures.append(fin_temp_distribution(m,L,h,k,values) * calculate_theta(ts, ta) + ta)\n",
    "\n",
    "plt.plot(comp,temperatures)\n",
    "plt.ylabel(\"Temperatura em graus Celsius\")\n",
    "plt.xlabel(\"Comprimento da aleta (m)\")\n",
    "plt.grid()\n",
    "plt.show()"
   ]
  },
  {
   "cell_type": "code",
   "execution_count": 4,
   "metadata": {},
   "outputs": [
    {
     "name": "stdout",
     "output_type": "stream",
     "text": [
      "Taxa de transferência de calor : 9.196 W\n",
      "Efetividade : 27.103\n",
      "Eficiência : 0.935\n"
     ]
    }
   ],
   "source": [
    "# B)\n",
    "\n",
    "theta = calculate_theta(ts,ta)\n",
    "\n",
    "M = calculate_M(h,P,A,k,theta)\n",
    "\n",
    "qa = fin_heat_transfer(M,m,L,h,k)\n",
    "\n",
    "Ea = effectiveness(qa,h,A,theta)\n",
    "\n",
    "Na = efficiency(qa,h,P*L + A,theta)\n",
    "\n",
    "print(f\"Taxa de transferência de calor : {round(qa, 3)} W\")\n",
    "\n",
    "print(f\"Efetividade : {round(Ea, 3)}\")\n",
    "\n",
    "print(f\"Eficiência : {round(Na, 3)}\")"
   ]
  },
  {
   "cell_type": "code",
   "execution_count": 8,
   "metadata": {},
   "outputs": [
    {
     "name": "stdout",
     "output_type": "stream",
     "text": [
      "Comprimento da aleta: 2.008 m\n",
      "Q Aleta = 21.323 W\n",
      "Q Aleta infinita = 21.324 W\n"
     ]
    }
   ],
   "source": [
    "# C)\n",
    "\n",
    "infinite_fin_q = M\n",
    "\n",
    "margin = 0.001\n",
    "\n",
    "fin_lenghts = np.arange(0, 2, 0.01)\n",
    "\n",
    "for i in fin_lenghts:\n",
    "    curr_length = L + i\n",
    "    fin_q = fin_heat_transfer(M, m, curr_length, h, k)\n",
    "    \n",
    "    if (infinite_fin_q - margin < fin_q):\n",
    "        ideal_length = curr_length\n",
    "        print(f\"Comprimento da aleta: {round(ideal_length, 3)} m\")\n",
    "        print(f\"Q Aleta = {round(fin_q, 3)} W\")\n",
    "        print(f\"Q Aleta infinita = {round(infinite_fin_q, 3)} W\")\n",
    "        break"
   ]
  },
  {
   "cell_type": "markdown",
   "metadata": {},
   "source": [
    "### Questão 2"
   ]
  },
  {
   "cell_type": "code",
   "execution_count": 6,
   "metadata": {},
   "outputs": [
    {
     "name": "stdout",
     "output_type": "stream",
     "text": [
      "Taxa de transferência de calor : 30.729 W\n",
      "Razao: 3.342\n"
     ]
    }
   ],
   "source": [
    "# A) \n",
    "\n",
    "r_2 = (12*(10**-3))*3\n",
    "# a área será 9x maior\n",
    "P_2 = 2*pi*r_2\n",
    "A_2 = (pi*(r_2**2))\n",
    "\n",
    "m_2 = calculate_m(h,P_2,k,A_2)\n",
    "\n",
    "M_2 = calculate_M(h,P_2,A_2,k,theta)\n",
    "\n",
    "qa_2 = fin_heat_transfer(M_2,m_2,L,h,k)\n",
    "\n",
    "print(f\"Taxa de transferência de calor : {round(qa_2, 3)} W\")\n",
    "print(f\"Razão: {round(qa_2/qa, 3)}\")"
   ]
  },
  {
   "cell_type": "markdown",
   "metadata": {},
   "source": [
    "### Resposta item A\n",
    "\n",
    "A taxa de remoção aumentaria aproximadamente 3.34 vezes."
   ]
  },
  {
   "cell_type": "code",
   "execution_count": 7,
   "metadata": {},
   "outputs": [
    {
     "name": "stdout",
     "output_type": "stream",
     "text": [
      "Taxa de transferência de calor : 9.446 W\n"
     ]
    }
   ],
   "source": [
    "# B)\n",
    "\n",
    "k_Cu = 400 # W/mK\n",
    "# k_Al = 240 # W/mK\n",
    "\n",
    "m_Cu = calculate_m(h,P,k_Cu,A)\n",
    "\n",
    "M_Cu = calculate_M(h,P,A,k_Cu,theta)\n",
    "\n",
    "qa_Cu = fin_heat_transfer(M_Cu,m_Cu,L,h,k_Cu)\n",
    "\n",
    "print(f\"Taxa de transferência de calor : {round(qa_Cu, 3)} W\")"
   ]
  },
  {
   "cell_type": "markdown",
   "metadata": {},
   "source": [
    "### Resposta item B\n",
    "\n",
    "A mudança na taxa de remoção de calor através do bastão seria de um aumento de aproximadamente 0.25 W."
   ]
  }
 ],
 "metadata": {
  "kernelspec": {
   "display_name": "Python 3 (ipykernel)",
   "language": "python",
   "name": "python3"
  },
  "language_info": {
   "codemirror_mode": {
    "name": "ipython",
    "version": 3
   },
   "file_extension": ".py",
   "mimetype": "text/x-python",
   "name": "python",
   "nbconvert_exporter": "python",
   "pygments_lexer": "ipython3",
   "version": "3.9.7"
  }
 },
 "nbformat": 4,
 "nbformat_minor": 2
}
