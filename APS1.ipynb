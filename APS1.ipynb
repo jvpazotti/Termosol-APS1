{
 "cells": [
  {
   "cell_type": "code",
   "execution_count": 15,
   "metadata": {},
   "outputs": [],
   "source": [
    "#imports\n",
    "\n",
    "import numpy as np\n",
    "\n",
    "import matplotlib.pyplot as plt\n",
    "\n",
    "from math import *\n",
    "\n",
    "from helpers import fin_heat_transfer, calculate_M, calculate_m, calculate_theta, fin_temp_distribution, effectiveness, efficiency"
   ]
  },
  {
   "cell_type": "code",
   "execution_count": 16,
   "metadata": {},
   "outputs": [],
   "source": [
    "#Variables\n",
    "\n",
    "ts = 100\n",
    "ta = 25\n",
    "r = 12*(10**-3)\n",
    "L = 168*(10**-3)\n",
    "h = 10\n",
    "P = 2*pi*r\n",
    "A = (pi*(r**2))\n",
    "k = 237"
   ]
  },
  {
   "cell_type": "code",
   "execution_count": 17,
   "metadata": {},
   "outputs": [
    {
     "data": {
      "image/png": "[encoded data removed]",
      "text/plain": [
       "<Figure size 432x288 with 1 Axes>"
      ]
     },
     "metadata": {
      "needs_background": "light"
     },
     "output_type": "display_data"
    }
   ],
   "source": [
    "#Questao 1 \n",
    "\n",
    "#a)\n",
    "\n",
    "temperatures=[]\n",
    "\n",
    "comp=np.linspace(0,L,100000)\n",
    "\n",
    "m=calculate_m(h,P,k,A)\n",
    "\n",
    "for values in comp:\n",
    "    temperatures.append(fin_temp_distribution(m,L,h,k,values) * calculate_theta(ts, ta) + ta)\n",
    "\n",
    "plt.plot(comp,temperatures)\n",
    "plt.ylabel(\"Temperatura em graus Celsius\")\n",
    "plt.xlabel(\"Comprimento da aleta (m)\")\n",
    "plt.grid()\n",
    "plt.show()"
   ]
  },
  {
   "cell_type": "code",
   "execution_count": 18,
   "metadata": {},
   "outputs": [
    {
     "name": "stdout",
     "output_type": "stream",
     "text": [
      "Taxa de transferecia de calor : 9.195933188619373\n",
      "Efetividade : 27.103300431696074\n",
      "Eficiencia : 0.9345965666102095\n"
     ]
    }
   ],
   "source": [
    "#Questao 1 \n",
    "\n",
    "#b)\n",
    "\n",
    "theta = calculate_theta(ts,ta)\n",
    "\n",
    "M = calculate_M(h,P,A,k,theta)\n",
    "\n",
    "qa = fin_heat_transfer(M,m,L,h,k)\n",
    "\n",
    "Ea = effectiveness(qa,h,A,theta)\n",
    "\n",
    "Na = efficiency(qa,h,P*L + A,theta)\n",
    "\n",
    "print(f\"Taxa de transferecia de calor : {qa}\")\n",
    "\n",
    "print(f\"Efetividade : {Ea}\")\n",
    "\n",
    "print(f\"Eficiencia : {Na}\")\n",
    "\n"
   ]
  },
  {
   "cell_type": "code",
   "execution_count": 39,
   "metadata": {},
   "outputs": [
    {
     "name": "stdout",
     "output_type": "stream",
     "text": [
      "ideal fin length 2.008:\n",
      "    fin q = 21.32319270314032 \n",
      "    infinite fin q = 21.32417195697197 \n"
     ]
    }
   ],
   "source": [
    "#Questao 1 \n",
    "\n",
    "#c)\n",
    "\n",
    "infinite_fin_q = M\n",
    "\n",
    "margin = 0.001\n",
    "\n",
    "fin_lenghts = np.arange(0, 2, 0.01)\n",
    "\n",
    "for i in fin_lenghts:\n",
    "    curr_length = L + i\n",
    "    fin_q = fin_heat_transfer(M, m, curr_length, h, k)\n",
    "    \n",
    "    if (infinite_fin_q - margin < fin_q):\n",
    "        ideal_length = curr_length\n",
    "        print(f\"ideal fin length {ideal_length}:\")\n",
    "        print(f\"    fin q = {fin_q} \\n    infinite fin q = {infinite_fin_q} \")\n",
    "        break\n"
   ]
  },
  {
   "cell_type": "code",
   "execution_count": null,
   "metadata": {},
   "outputs": [],
   "source": [
    "#Questao 2 \n",
    "\n",
    "#a)"
   ]
  },
  {
   "cell_type": "code",
   "execution_count": null,
   "metadata": {},
   "outputs": [],
   "source": [
    "#Questao 2 \n",
    "\n",
    "#b)"
   ]
  },
  {
   "cell_type": "code",
   "execution_count": null,
   "metadata": {},
   "outputs": [],
   "source": [
    "#Questao 3 \n",
    "\n",
    "#c)"
   ]
  },
  {
   "cell_type": "code",
   "execution_count": null,
   "metadata": {},
   "outputs": [],
   "source": []
  }
 ],
 "metadata": {
  "kernelspec": {
   "display_name": "Python 3 (ipykernel)",
   "language": "python",
   "name": "python3"
  },
  "language_info": {
   "codemirror_mode": {
    "name": "ipython",
    "version": 3
   },
   "file_extension": ".py",
   "mimetype": "text/x-python",
   "name": "python",
   "nbconvert_exporter": "python",
   "pygments_lexer": "ipython3",
   "version": "3.8.12"
  }
 },
 "nbformat": 4,
 "nbformat_minor": 2
}
